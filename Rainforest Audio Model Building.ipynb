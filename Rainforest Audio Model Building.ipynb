{
 "cells": [
  {
   "source": [
    "## Rainforest Audio Sample Classification\n",
    "\n",
    "This is a for the [Kaggle competition](https://www.kaggle.com/c/rfcx-species-audio-detection/overview). I will convert these audio samples to images in the frequency domain and use fastai to classify them. The targets are the probability that each species is in the audio file.\n",
    "\n",
    "First, let's convert the audio samples to images."
   ],
   "cell_type": "markdown",
   "metadata": {}
  },
  {
   "cell_type": "code",
   "execution_count": 1,
   "metadata": {},
   "outputs": [],
   "source": [
    "import librosa"
   ]
  },
  {
   "cell_type": "code",
   "execution_count": null,
   "metadata": {},
   "outputs": [],
   "source": []
  }
 ],
 "metadata": {
  "kernelspec": {
   "display_name": "fastai2",
   "language": "python",
   "name": "fastai2"
  },
  "language_info": {
   "codemirror_mode": {
    "name": "ipython",
    "version": 3
   },
   "file_extension": ".py",
   "mimetype": "text/x-python",
   "name": "python",
   "nbconvert_exporter": "python",
   "pygments_lexer": "ipython3",
   "version": "3.8.5"
  }
 },
 "nbformat": 4,
 "nbformat_minor": 4
}